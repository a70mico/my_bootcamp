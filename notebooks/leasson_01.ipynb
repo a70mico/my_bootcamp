{
 "cells": [
  {
   "cell_type": "code",
   "execution_count": 3,
   "metadata": {},
   "outputs": [],
   "source": [
    "#datatypes\n",
    "contador = 3\n",
    "numero_pi = 3.149\n",
    "cadena = \"python es lo maximo\"\n",
    "flag = True\n"
   ]
  },
  {
   "cell_type": "code",
   "execution_count": 4,
   "metadata": {},
   "outputs": [],
   "source": [
    "#datatypes with typing\n",
    "contador:int = 3\n",
    "numero_pi:float = 3.149\n",
    "cadena:str = \"python es lo maximo\"\n",
    "flag:bool = True"
   ]
  },
  {
   "cell_type": "code",
   "execution_count": 7,
   "metadata": {},
   "outputs": [
    {
     "name": "stdout",
     "output_type": "stream",
     "text": [
      "True\n",
      "True\n",
      "True\n"
     ]
    }
   ],
   "source": [
    "# logical operator\n",
    "print(True and True)\n",
    "print(True or False) \n",
    "print(not False)\n",
    "\n"
   ]
  },
  {
   "cell_type": "code",
   "execution_count": 10,
   "metadata": {},
   "outputs": [
    {
     "name": "stdout",
     "output_type": "stream",
     "text": [
      "6\n",
      "80\n",
      "8.0\n",
      "3.5\n",
      "1\n",
      "4\n"
     ]
    }
   ],
   "source": [
    "#arismetic operator\n",
    "print(3+3) #suma\n",
    "print(10*8) #multiplicacion\n",
    "print(24/3) #division\n",
    "print(10.9-7.4) #resta\n",
    "print(9%2) #modulo es el residual\n",
    "print(9//2) #division entera"
   ]
  },
  {
   "cell_type": "code",
   "execution_count": 11,
   "metadata": {},
   "outputs": [],
   "source": [
    "#collections\n",
    "my_list = [1,2,3,4] # es una coleccion ordenada, y mutable\n",
    "my_tuple = (\"fish\", \"chips\") # es una coleccion ordenada, no mutable\n",
    "my_set = {\"a\",\"b\",\"c\"} # es una coleccion no ordenada, mutable solo cuando se saca o se mete valores, sin repeticiones\n",
    "my_dict = {\"name\":\"Peater\",\"last_name\":\"Smith\"} # es una coleccion llave valor, es ordenada y mutable"
   ]
  },
  {
   "cell_type": "code",
   "execution_count": 23,
   "metadata": {},
   "outputs": [
    {
     "data": {
      "text/plain": [
       "{'name': 'Soledad', 'last_name': 'Rios'}"
      ]
     },
     "execution_count": 23,
     "metadata": {},
     "output_type": "execute_result"
    }
   ],
   "source": [
    "# ejemplo de colleciones\n",
    "my_list[3]\n",
    "my_list[3] = 5\n",
    "my_list #puedo mutar el valor\n",
    "\n",
    "my_tuple[1] \n",
    "my_tuple\n",
    "\n",
    "\n",
    "\n",
    "my_second_set = {\"x\",\"y\",\"z\", \"x\"}\n",
    "my_second_set\n",
    "\n",
    "my_dict[\"last_name\"]\n",
    "\n",
    "my_second_dict = {\"name\":\"Maria\", \"name\":\"Soledad\",\"last_name\":\"Rios\"}\n",
    "my_second_dict"
   ]
  },
  {
   "cell_type": "code",
   "execution_count": 27,
   "metadata": {},
   "outputs": [
    {
     "name": "stdout",
     "output_type": "stream",
     "text": [
      "El quipo A Gano\n"
     ]
    }
   ],
   "source": [
    "#las tres estructuras de control : Sequence, Selection, Iteration (teorema de Bohm Jacopini)\n",
    "\n",
    "#selection\n",
    "score_team_a = 3\n",
    "score_team_b = 1\n",
    "\n",
    "if score_team_a < score_team_b:\n",
    "    print(\"El quipo A perdio\")\n",
    "elif score_team_a > score_team_b:\n",
    "    print(\"El quipo A Gano\")\n",
    "else: \n",
    "    print(\"El quipo A empato con el equipo B\")"
   ]
  },
  {
   "cell_type": "code",
   "execution_count": 35,
   "metadata": {},
   "outputs": [
    {
     "name": "stdout",
     "output_type": "stream",
     "text": [
      "7\n",
      "10\n",
      "5\n",
      "0\n",
      "4\n",
      "3\n",
      "2\n",
      "1\n"
     ]
    }
   ],
   "source": [
    "#Interation\n",
    "\n",
    "my_second_list = [7,10,5,0]\n",
    "for i in my_second_list:\n",
    "    print(i)\n",
    "\n",
    "my_number = 4\n",
    "\n",
    "while my_number > 0:\n",
    "    print(my_number)\n",
    "    my_number -= 1"
   ]
  },
  {
   "cell_type": "code",
   "execution_count": 37,
   "metadata": {},
   "outputs": [
    {
     "data": {
      "text/plain": [
       "array([6, 7, 8, 9])"
      ]
     },
     "execution_count": 37,
     "metadata": {},
     "output_type": "execute_result"
    }
   ],
   "source": [
    "import numpy as np\n",
    "\n",
    "my_vector = np.array([6,7,8,9])\n",
    "my_vector"
   ]
  },
  {
   "cell_type": "code",
   "execution_count": 39,
   "metadata": {},
   "outputs": [
    {
     "name": "stdout",
     "output_type": "stream",
     "text": [
      "[[6 7]\n",
      " [8 9]]\n",
      "(2, 2)\n"
     ]
    }
   ],
   "source": [
    "my_vector.shape # las dimensiones de este objeto array es un vector de 4 elementos lo sabemos porque despeus de la coma no hay nada\n",
    "\n",
    "my_matrix = np.array([[6,7],[8,9]])\n",
    "print(my_matrix)\n",
    "print(my_matrix.shape) # cuando esta las 2 dimensiones es una matrix"
   ]
  },
  {
   "cell_type": "code",
   "execution_count": null,
   "metadata": {},
   "outputs": [],
   "source": [
    "s"
   ]
  }
 ],
 "metadata": {
  "kernelspec": {
   "display_name": ".venv",
   "language": "python",
   "name": "python3"
  },
  "language_info": {
   "codemirror_mode": {
    "name": "ipython",
    "version": 3
   },
   "file_extension": ".py",
   "mimetype": "text/x-python",
   "name": "python",
   "nbconvert_exporter": "python",
   "pygments_lexer": "ipython3",
   "version": "3.12.1"
  }
 },
 "nbformat": 4,
 "nbformat_minor": 2
}
